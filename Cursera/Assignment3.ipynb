{
 "cells": [
  {
   "cell_type": "markdown",
   "metadata": {},
   "source": [
    "# Assignment 3 - Building a Custom Visualization\n",
    "\n",
    "---\n",
    "\n",
    "In this assignment you must choose one of the options presented below and submit a visual as well as your source code for peer grading. The details of how you solve the assignment are up to you, although your assignment must use matplotlib so that your peers can evaluate your work. The options differ in challenge level, but there are no grades associated with the challenge level you chose. However, your peers will be asked to ensure you at least met a minimum quality for a given technique in order to pass. Implement the technique fully (or exceed it!) and you should be able to earn full grades for the assignment.\n",
    "\n",
    "\n",
    "&nbsp;&nbsp;&nbsp;&nbsp;&nbsp;&nbsp;Ferreira, N., Fisher, D., & Konig, A. C. (2014, April). [Sample-oriented task-driven visualizations: allowing users to make better, more confident decisions.](https://www.microsoft.com/en-us/research/wp-content/uploads/2016/02/Ferreira_Fisher_Sample_Oriented_Tasks.pdf) \n",
    "&nbsp;&nbsp;&nbsp;&nbsp;&nbsp;&nbsp;In Proceedings of the SIGCHI Conference on Human Factors in Computing Systems (pp. 571-580). ACM. ([video](https://www.youtube.com/watch?v=BI7GAs-va-Q))\n",
    "\n",
    "\n",
    "In this [paper](https://www.microsoft.com/en-us/research/wp-content/uploads/2016/02/Ferreira_Fisher_Sample_Oriented_Tasks.pdf) the authors describe the challenges users face when trying to make judgements about probabilistic data generated through samples. As an example, they look at a bar chart of four years of data (replicated below in Figure 1). Each year has a y-axis value, which is derived from a sample of a larger dataset. For instance, the first value might be the number votes in a given district or riding for 1992, with the average being around 33,000. On top of this is plotted the 95% confidence interval for the mean (see the boxplot lectures for more information, and the yerr parameter of barcharts).\n",
    "\n",
    "<br>\n",
    "<img src=\"readonly/Assignment3Fig1.png\" alt=\"Figure 1\" style=\"width: 400px;\"/>\n",
    "<h4 style=\"text-align: center;\" markdown=\"1\">  &nbsp;&nbsp;&nbsp;&nbsp;&nbsp;&nbsp;&nbsp;&nbsp;Figure 1 from (Ferreira et al, 2014).</h4>\n",
    "\n",
    "<br>\n",
    "\n",
    "A challenge that users face is that, for a given y-axis value (e.g. 42,000), it is difficult to know which x-axis values are most likely to be representative, because the confidence levels overlap and their distributions are different (the lengths of the confidence interval bars are unequal). One of the solutions the authors propose for this problem (Figure 2c) is to allow users to indicate the y-axis value of interest (e.g. 42,000) and then draw a horizontal line and color bars based on this value. So bars might be colored red if they are definitely above this value (given the confidence interval), blue if they are definitely below this value, or white if they contain this value.\n",
    "\n",
    "\n",
    "<br>\n",
    "<img src=\"readonly/Assignment3Fig2c.png\" alt=\"Figure 1\" style=\"width: 400px;\"/>\n",
    "<h4 style=\"text-align: center;\" markdown=\"1\">  Figure 2c from (Ferreira et al. 2014). Note that the colorbar legend at the bottom as well as the arrows are not required in the assignment descriptions below.</h4>\n",
    "\n",
    "<br>\n",
    "<br>\n",
    "\n",
    "**Easiest option:** Implement the bar coloring as described above - a color scale with only three colors, (e.g. blue, white, and red). Assume the user provides the y axis value of interest as a parameter or variable.\n",
    "\n",
    "\n",
    "**Harder option:** Implement the bar coloring as described in the paper, where the color of the bar is actually based on the amount of data covered (e.g. a gradient ranging from dark blue for the distribution being certainly below this y-axis, to white if the value is certainly contained, to dark red if the value is certainly not contained as the distribution is above the axis).\n",
    "\n",
    "**Even Harder option:** Add interactivity to the above, which allows the user to click on the y axis to set the value of interest. The bar colors should change with respect to what value the user has selected.\n",
    "\n",
    "**Hardest option:** Allow the user to interactively set a range of y values they are interested in, and recolor based on this (e.g. a y-axis band, see the paper for more details).\n",
    "\n",
    "---\n",
    "\n",
    "*Note: The data given for this assignment is not the same as the data used in the article and as a result the visualizations may look a little different.*"
   ]
  },
  {
   "cell_type": "code",
   "execution_count": 2,
   "metadata": {
    "collapsed": false
   },
   "outputs": [],
   "source": [
    "# Use the following data for this assignment:\n",
    "\n",
    "import pandas as pd\n",
    "import numpy as np\n",
    "from scipy import stats\n",
    "import matplotlib.pyplot as plt\n",
    "from matplotlib import cm\n",
    "import decimal\n",
    "np.random.seed(12345)\n",
    "\n",
    "df = pd.DataFrame([np.random.normal(32000,200000,3650), \n",
    "                   np.random.normal(43000,100000,3650), \n",
    "                   np.random.normal(43500,140000,3650), \n",
    "                   np.random.normal(48000,70000,3650)], \n",
    "                  index=[1992,1993,1994,1995])\n",
    "df = df.transpose()\n",
    "n = df.shape[0]\n",
    "rnormval = 1.96 # because of 95% confidence interval"
   ]
  },
  {
   "cell_type": "code",
   "execution_count": 3,
   "metadata": {
    "collapsed": false
   },
   "outputs": [
    {
     "data": {
      "text/plain": [
       "[33312.11, 41861.86, 39493.3, 47743.55]"
      ]
     },
     "execution_count": 3,
     "metadata": {},
     "output_type": "execute_result"
    }
   ],
   "source": [
    "mean = [round(df[column].mean(axis = 0), 2) for column in df]\n",
    "std = [df[column].std(axis = 0) for column in df]\n",
    "colnames = [column for column in df]\n",
    "confIntervals = [(mean[i] - (std[i]/ np.sqrt(n) * rnormval), mean[i] + (std[i] / np.sqrt(n) * rnormval)) for i in range(len(mean))]\n",
    "\n",
    "def dropzeros(number):\n",
    "    mynum = decimal.Decimal(number).normalize()\n",
    "    return mynum.__trunc__() if not mynum % 1 else float(mynum)\n",
    "mean = [dropzeros(mean[i]) for i in range(len(mean))]"
   ]
  },
  {
   "cell_type": "code",
   "execution_count": 4,
   "metadata": {
    "collapsed": false
   },
   "outputs": [
    {
     "data": {
      "image/png": "[encoded data removed]",
      "text/plain": [
       "<matplotlib.figure.Figure at 0x7fe5693bb630>"
      ]
     },
     "metadata": {},
     "output_type": "display_data"
    }
   ],
   "source": [
    "%matplotlib inline\n",
    "horParameter = 39493.3\n",
    "reds = cm.Reds\n",
    "blues = cm.Blues\n",
    "horParameter - mean[1]\n",
    "\n",
    "diff = [horParameter - mean[i] for i in range(len(mean))]\n",
    "colour = [reds(abs(x)) if x < 0 else blues(abs(x)) if x > 0 else 'white' for x in diff]\n",
    "\n",
    "fig = plt.figure()\n",
    "ax = fig.add_subplot(111)\n",
    "y_r = [mean[i] - confIntervals[i][1] for i in range(len(confIntervals))]\n",
    "ax.bar(range(len(mean)), mean, alpha = 0.2, align = 'center', color = colour, edgecolor = 'black')\n",
    "ax.errorbar(range(len(mean)), mean, yerr = y_r, ls = 'None', ecolor = 'gray', lw = 2, capsize = 5, capthick = 2)\n",
    "ax.set_xticks(np.arange(0, len(mean), 1))\n",
    "ax.set_xticklabels(colnames)\n",
    "#fig.xticks(range(len(mean)), colnames)\n",
    "ax.axhline(y = horParameter, color = 'r', linestyle = '-')\n",
    "ax.text(1.02, horParameter, str(horParameter), va='center', ha=\"left\", bbox=dict(facecolor=\"w\",alpha=0.5),\n",
    "        transform = ax.get_yaxis_transform())\n",
    "fig.savefig('C2_Assignment3.png')\n",
    "#plt.show()"
   ]
  }
 ],
 "metadata": {
  "kernelspec": {
   "display_name": "Python 3",
   "language": "python",
   "name": "python3"
  },
  "language_info": {
   "codemirror_mode": {
    "name": "ipython",
    "version": 3
   },
   "file_extension": ".py",
   "mimetype": "text/x-python",
   "name": "python",
   "nbconvert_exporter": "python",
   "pygments_lexer": "ipython3",
   "version": "3.5.2"
  }
 },
 "nbformat": 4,
 "nbformat_minor": 2
}
